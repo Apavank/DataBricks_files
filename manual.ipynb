{
 "cells": [
  {
   "cell_type": "code",
   "execution_count": 1,
   "id": "66fc5406-70d3-4689-b080-e35f72c83c01",
   "metadata": {},
   "outputs": [
    {
     "name": "stdout",
     "output_type": "stream",
     "text": [
      "Requirement already satisfied: pandas in c:\\users\\paluchur\\anaconda3\\lib\\site-packages (1.2.4)\n",
      "Requirement already satisfied: pytz>=2017.3 in c:\\users\\paluchur\\anaconda3\\lib\\site-packages (from pandas) (2021.1)\n",
      "Requirement already satisfied: python-dateutil>=2.7.3 in c:\\users\\paluchur\\anaconda3\\lib\\site-packages (from pandas) (2.8.1)\n",
      "Requirement already satisfied: numpy>=1.16.5 in c:\\users\\paluchur\\anaconda3\\lib\\site-packages (from pandas) (1.20.1)\n",
      "Requirement already satisfied: six>=1.5 in c:\\users\\paluchur\\anaconda3\\lib\\site-packages (from python-dateutil>=2.7.3->pandas) (1.15.0)\n"
     ]
    }
   ],
   "source": [
    "!pip install pandas"
   ]
  },
  {
   "cell_type": "code",
   "execution_count": 6,
   "id": "2a8a587b-b4a5-4518-9f18-c49363007d5e",
   "metadata": {},
   "outputs": [],
   "source": [
    "import pandas as pd "
   ]
  },
  {
   "cell_type": "code",
   "execution_count": 10,
   "id": "5777ff89-6d0e-4303-961e-dfa6d0c88205",
   "metadata": {},
   "outputs": [],
   "source": [
    "train=pd.read_csv('train.csv')"
   ]
  },
  {
   "cell_type": "code",
   "execution_count": 11,
   "id": "35b4b8bc-1e86-4026-94a3-b207b6b63608",
   "metadata": {},
   "outputs": [
    {
     "name": "stdout",
     "output_type": "stream",
     "text": [
      "<class 'pandas.core.frame.DataFrame'>\n",
      "RangeIndex: 19387 entries, 0 to 19386\n",
      "Data columns (total 48 columns):\n",
      " #   Column               Non-Null Count  Dtype  \n",
      "---  ------               --------------  -----  \n",
      " 0   id                   19387 non-null  object \n",
      " 1   asins                2571 non-null   object \n",
      " 2   brand                19129 non-null  object \n",
      " 3   categories           19387 non-null  object \n",
      " 4   colors               11048 non-null  object \n",
      " 5   count                0 non-null      float64\n",
      " 6   dateadded            19387 non-null  object \n",
      " 7   dateupdated          19387 non-null  object \n",
      " 8   descriptions         9904 non-null   object \n",
      " 9   dimension            2991 non-null   object \n",
      " 10  ean                  9999 non-null   float64\n",
      " 11  features             13997 non-null  object \n",
      " 12  flavors              0 non-null      float64\n",
      " 13  imageurls            18342 non-null  object \n",
      " 14  isbn                 0 non-null      float64\n",
      " 15  keys                 19387 non-null  object \n",
      " 16  manufacturer         6699 non-null   object \n",
      " 17  manufacturernumber   15147 non-null  object \n",
      " 18  merchants            14040 non-null  object \n",
      " 19  name                 19387 non-null  object \n",
      " 20  prices_amountmin     19377 non-null  object \n",
      " 21  prices_amountmax     19387 non-null  object \n",
      " 22  prices_availability  197 non-null    object \n",
      " 23  prices_color         758 non-null    object \n",
      " 24  prices_condition     12621 non-null  object \n",
      " 25  prices_count         71 non-null     object \n",
      " 26  prices_currency      19311 non-null  object \n",
      " 27  prices_dateadded     19372 non-null  object \n",
      " 28  prices_dateseen      19362 non-null  object \n",
      " 29  prices_flavor        76 non-null     object \n",
      " 30  prices_issale        19321 non-null  object \n",
      " 31  prices_merchant      13843 non-null  object \n",
      " 32  prices_offer         6091 non-null   object \n",
      " 33  prices_returnpolicy  1018 non-null   object \n",
      " 34  prices_shipping      5753 non-null   object \n",
      " 35  prices_size          661 non-null    object \n",
      " 36  prices_source        16 non-null     object \n",
      " 37  prices_sourceurls    19281 non-null  object \n",
      " 38  prices_warranty      108 non-null    object \n",
      " 39  quantities           11 non-null     object \n",
      " 40  reviews              1664 non-null   object \n",
      " 41  sizes                5979 non-null   object \n",
      " 42  skus                 8743 non-null   object \n",
      " 43  sourceurls           19263 non-null  object \n",
      " 44  upc                  10816 non-null  object \n",
      " 45  vin                  46 non-null     object \n",
      " 46  websiteids           8 non-null      object \n",
      " 47  weight               863 non-null    object \n",
      "dtypes: float64(4), object(44)\n",
      "memory usage: 7.1+ MB\n"
     ]
    }
   ],
   "source": [
    "train.info()"
   ]
  },
  {
   "cell_type": "code",
   "execution_count": 12,
   "id": "a91a6cb1-7343-4001-9063-2f5ec80ac72a",
   "metadata": {},
   "outputs": [
    {
     "data": {
      "text/plain": [
       "0               Clothing,Shoes,Men's Shoes,All Men's Shoes\n",
       "1               Clothing,Shoes,Men's Shoes,All Men's Shoes\n",
       "2               All Men's Shoes,Shoes,Men's Shoes,Clothing\n",
       "3               All Men's Shoes,Shoes,Men's Shoes,Clothing\n",
       "4               All Men's Shoes,Shoes,Men's Shoes,Clothing\n",
       "                               ...                        \n",
       "19382      Clothing, Shoes & Accessories,Men's Shoes,Boots\n",
       "19383           Clothing,Shoes,Men's Shoes,All Men's Shoes\n",
       "19384    Women's Sunglasses,Sunglasses,Bags & Accessori...\n",
       "19385    Women's Sunglasses,Sunglasses,Bags & Accessori...\n",
       "19386    Women's Sunglasses,Sunglasses,Bags & Accessori...\n",
       "Name: categories, Length: 19387, dtype: object"
      ]
     },
     "execution_count": 12,
     "metadata": {},
     "output_type": "execute_result"
    }
   ],
   "source": [
    "train['categories']"
   ]
  },
  {
   "cell_type": "code",
   "execution_count": 13,
   "id": "9b187df6-40aa-4858-b552-ffa7f045eba3",
   "metadata": {},
   "outputs": [
    {
     "data": {
      "text/plain": [
       "All Men's Shoes,Shoes,Men's Shoes,Clothing                                                 3717\n",
       "Clothing,Shoes,Men's Shoes,All Men's Shoes                                                 1644\n",
       "Men's Casual Shoes,Shoes,Men's Shoes,Clothing                                               699\n",
       "All Men's Clothing,Men's Clothing,Men's Outerwear,Clothing, Shoes & Jewelry,Clothing        588\n",
       "Clothing, Shoes & Accessories,Men's Shoes,Athletic                                          400\n",
       "                                                                                           ... \n",
       "clothing, shoes & jewelry,Men,Suits & Sport Coats,Tuxedos,Clothing                            1\n",
       "Watches,Clothing, Shoes & Jewelry,Men,Watch Bands,Jewelry & Watches,Wristwatch Bands          1\n",
       "Men,Workout & Outdoor,Golf,Golf Shoes                                                         1\n",
       "Clothing,Clothing, Shoes & Jewelry,Men,Jackets & Coats,Lightweight Jackets,Windbreakers       1\n",
       "Clothing,Clothing, Shoes & Jewelry,Novelty & More,Novelty,Men,Sweatshirts                     1\n",
       "Name: categories, Length: 1264, dtype: int64"
      ]
     },
     "execution_count": 13,
     "metadata": {},
     "output_type": "execute_result"
    }
   ],
   "source": [
    "train['categories'].value_counts()"
   ]
  },
  {
   "cell_type": "code",
   "execution_count": 14,
   "id": "7dad1e2c-6f48-4457-8c37-810752c4d88a",
   "metadata": {},
   "outputs": [
    {
     "data": {
      "text/plain": [
       "All Men's Shoes,Shoes,Men's Shoes,Clothing                                              3717\n",
       "Clothing,Shoes,Men's Shoes,All Men's Shoes                                              1644\n",
       "Men's Casual Shoes,Shoes,Men's Shoes,Clothing                                            699\n",
       "All Men's Clothing,Men's Clothing,Men's Outerwear,Clothing, Shoes & Jewelry,Clothing     588\n",
       "Clothing, Shoes & Accessories,Men's Shoes,Athletic                                       400\n",
       "Clothing,Shoes,Men's Shoes,Men's Casual Shoes                                            367\n",
       "Clothing, Shoes & Accessories,Men's Accessories,Backpacks, Bags & Briefcases             289\n",
       "Home Improvement,Men's Work & Safety Shoes,Work Safety Clothing and Equipment            255\n",
       "Men's Dress Shoes,Shoes,Men's Shoes,Clothing                                             242\n",
       "Clothing, Shoes, Accessories,Men's Sunglasses                                            203\n",
       "Name: categories, dtype: int64"
      ]
     },
     "execution_count": 14,
     "metadata": {},
     "output_type": "execute_result"
    }
   ],
   "source": [
    "train['categories'].value_counts()[0:10]"
   ]
  },
  {
   "cell_type": "code",
   "execution_count": 15,
   "id": "8bce09bf-4ca2-4540-87f1-958849241440",
   "metadata": {},
   "outputs": [
    {
     "data": {
      "text/plain": [
       "0        False\n",
       "1        False\n",
       "2        False\n",
       "3        False\n",
       "4        False\n",
       "         ...  \n",
       "19382    False\n",
       "19383    False\n",
       "19384    False\n",
       "19385    False\n",
       "19386    False\n",
       "Name: categories, Length: 19387, dtype: bool"
      ]
     },
     "execution_count": 15,
     "metadata": {},
     "output_type": "execute_result"
    }
   ],
   "source": [
    "train['categories']==\"Clothing, Shoes & Accessories,Men's Shoes,Athletic\""
   ]
  },
  {
   "cell_type": "code",
   "execution_count": 16,
   "id": "0c7e95d6-6703-4146-b3f6-e2269ae38ec6",
   "metadata": {},
   "outputs": [],
   "source": [
    "intrestTrain=train[train['categories']==\"Clothing, Shoes & Accessories,Men's Shoes,Athletic\"]"
   ]
  },
  {
   "cell_type": "code",
   "execution_count": 17,
   "id": "c2ddb46d-ab16-4f9f-82b9-f08df7c4714d",
   "metadata": {},
   "outputs": [
    {
     "name": "stdout",
     "output_type": "stream",
     "text": [
      "<class 'pandas.core.frame.DataFrame'>\n",
      "Int64Index: 400 entries, 60 to 19296\n",
      "Data columns (total 48 columns):\n",
      " #   Column               Non-Null Count  Dtype  \n",
      "---  ------               --------------  -----  \n",
      " 0   id                   400 non-null    object \n",
      " 1   asins                0 non-null      object \n",
      " 2   brand                400 non-null    object \n",
      " 3   categories           400 non-null    object \n",
      " 4   colors               331 non-null    object \n",
      " 5   count                0 non-null      float64\n",
      " 6   dateadded            400 non-null    object \n",
      " 7   dateupdated          400 non-null    object \n",
      " 8   descriptions         49 non-null     object \n",
      " 9   dimension            0 non-null      object \n",
      " 10  ean                  351 non-null    float64\n",
      " 11  features             400 non-null    object \n",
      " 12  flavors              0 non-null      float64\n",
      " 13  imageurls            399 non-null    object \n",
      " 14  isbn                 0 non-null      float64\n",
      " 15  keys                 400 non-null    object \n",
      " 16  manufacturer         0 non-null      object \n",
      " 17  manufacturernumber   25 non-null     object \n",
      " 18  merchants            400 non-null    object \n",
      " 19  name                 400 non-null    object \n",
      " 20  prices_amountmin     400 non-null    object \n",
      " 21  prices_amountmax     400 non-null    object \n",
      " 22  prices_availability  0 non-null      object \n",
      " 23  prices_color         0 non-null      object \n",
      " 24  prices_condition     400 non-null    object \n",
      " 25  prices_count         0 non-null      object \n",
      " 26  prices_currency      400 non-null    object \n",
      " 27  prices_dateadded     400 non-null    object \n",
      " 28  prices_dateseen      400 non-null    object \n",
      " 29  prices_flavor        0 non-null      object \n",
      " 30  prices_issale        400 non-null    object \n",
      " 31  prices_merchant      67 non-null     object \n",
      " 32  prices_offer         163 non-null    object \n",
      " 33  prices_returnpolicy  0 non-null      object \n",
      " 34  prices_shipping      275 non-null    object \n",
      " 35  prices_size          0 non-null      object \n",
      " 36  prices_source        0 non-null      object \n",
      " 37  prices_sourceurls    400 non-null    object \n",
      " 38  prices_warranty      0 non-null      object \n",
      " 39  quantities           0 non-null      object \n",
      " 40  reviews              0 non-null      object \n",
      " 41  sizes                377 non-null    object \n",
      " 42  skus                 400 non-null    object \n",
      " 43  sourceurls           400 non-null    object \n",
      " 44  upc                  368 non-null    object \n",
      " 45  vin                  0 non-null      object \n",
      " 46  websiteids           0 non-null      object \n",
      " 47  weight               0 non-null      object \n",
      "dtypes: float64(4), object(44)\n",
      "memory usage: 153.1+ KB\n"
     ]
    }
   ],
   "source": [
    "intrestTrain.info()"
   ]
  },
  {
   "cell_type": "code",
   "execution_count": 40,
   "id": "6dc4d959-29b5-42a5-a62a-40c6da4c4b63",
   "metadata": {},
   "outputs": [
    {
     "data": {
      "text/html": [
       "<div>\n",
       "<style scoped>\n",
       "    .dataframe tbody tr th:only-of-type {\n",
       "        vertical-align: middle;\n",
       "    }\n",
       "\n",
       "    .dataframe tbody tr th {\n",
       "        vertical-align: top;\n",
       "    }\n",
       "\n",
       "    .dataframe thead th {\n",
       "        text-align: right;\n",
       "    }\n",
       "</style>\n",
       "<table border=\"1\" class=\"dataframe\">\n",
       "  <thead>\n",
       "    <tr style=\"text-align: right;\">\n",
       "      <th></th>\n",
       "      <th>merchants</th>\n",
       "      <th>name</th>\n",
       "      <th>prices_amountmin</th>\n",
       "      <th>prices_amountmax</th>\n",
       "    </tr>\n",
       "  </thead>\n",
       "  <tbody>\n",
       "    <tr>\n",
       "      <th>60</th>\n",
       "      <td>[{\"dateSeen\":[\"2016-02-27T00:00:00Z\"],\"name\":\"...</td>\n",
       "      <td>Nike Shox Turbo Vi Sl 555341-160 White/gym Red...</td>\n",
       "      <td>119.99</td>\n",
       "      <td>119.99</td>\n",
       "    </tr>\n",
       "    <tr>\n",
       "      <th>113</th>\n",
       "      <td>[{\"dateSeen\":[\"2016-04-06T00:00:00Z\"],\"name\":\"...</td>\n",
       "      <td>Nike Jordan Flight Runner 2 Black/red/gray Men...</td>\n",
       "      <td>109.95</td>\n",
       "      <td>109.95</td>\n",
       "    </tr>\n",
       "    <tr>\n",
       "      <th>128</th>\n",
       "      <td>[{\"dateSeen\":[\"2016-02-27T00:00:00Z\"],\"name\":\"...</td>\n",
       "      <td>Nike Men's Air Max Ltd 3 (687977-002) Wolf Gre...</td>\n",
       "      <td>78.00</td>\n",
       "      <td>78.00</td>\n",
       "    </tr>\n",
       "    <tr>\n",
       "      <th>184</th>\n",
       "      <td>[{\"dateSeen\":[\"2016-04-06T00:00:00Z\"],\"name\":\"...</td>\n",
       "      <td>Nike Air Zoom Terra Kiger 2 Athletic Sneakers ...</td>\n",
       "      <td>69.99</td>\n",
       "      <td>69.99</td>\n",
       "    </tr>\n",
       "    <tr>\n",
       "      <th>202</th>\n",
       "      <td>[{\"dateSeen\":[\"2016-04-11T00:00:00Z\"],\"name\":\"...</td>\n",
       "      <td>Nib Nike Air Jordan Melo M11 Xi Hare Grey Mist...</td>\n",
       "      <td>69.99</td>\n",
       "      <td>69.99</td>\n",
       "    </tr>\n",
       "    <tr>\n",
       "      <th>...</th>\n",
       "      <td>...</td>\n",
       "      <td>...</td>\n",
       "      <td>...</td>\n",
       "      <td>...</td>\n",
       "    </tr>\n",
       "    <tr>\n",
       "      <th>19011</th>\n",
       "      <td>[{\"dateSeen\":[\"2016-04-01T00:00:00Z\"],\"name\":\"...</td>\n",
       "      <td>Nike Air Max Tailwind+ 5 Men Us 12 Blue Sneake...</td>\n",
       "      <td>68.99</td>\n",
       "      <td>68.99</td>\n",
       "    </tr>\n",
       "    <tr>\n",
       "      <th>19036</th>\n",
       "      <td>[{\"dateSeen\":[\"2016-04-01T00:00:00Z\"],\"name\":\"...</td>\n",
       "      <td>Adidas Lite Racer Mens Casual Running Shoe (bl...</td>\n",
       "      <td>51.99</td>\n",
       "      <td>51.99</td>\n",
       "    </tr>\n",
       "    <tr>\n",
       "      <th>19079</th>\n",
       "      <td>[{\"dateSeen\":[\"2016-04-03T00:00:00Z\"],\"name\":\"...</td>\n",
       "      <td>Nike Air Jordan Future Dark Grey Volt Sz 9 Nib</td>\n",
       "      <td>79.95</td>\n",
       "      <td>79.95</td>\n",
       "    </tr>\n",
       "    <tr>\n",
       "      <th>19080</th>\n",
       "      <td>[{\"dateSeen\":[\"2016-04-03T00:00:00Z\"],\"name\":\"...</td>\n",
       "      <td>Nike Air Jordan Future Dark Grey Volt Sz 9 Nib</td>\n",
       "      <td>99.94</td>\n",
       "      <td>99.94</td>\n",
       "    </tr>\n",
       "    <tr>\n",
       "      <th>19296</th>\n",
       "      <td>[{\"dateSeen\":[\"2016-03-02T00:00:00Z\"],\"name\":\"...</td>\n",
       "      <td>Patrick Ewing 9m Men's White/jamaica 33 High M...</td>\n",
       "      <td>44.00</td>\n",
       "      <td>44.00</td>\n",
       "    </tr>\n",
       "  </tbody>\n",
       "</table>\n",
       "<p>400 rows × 4 columns</p>\n",
       "</div>"
      ],
      "text/plain": [
       "                                               merchants  \\\n",
       "60     [{\"dateSeen\":[\"2016-02-27T00:00:00Z\"],\"name\":\"...   \n",
       "113    [{\"dateSeen\":[\"2016-04-06T00:00:00Z\"],\"name\":\"...   \n",
       "128    [{\"dateSeen\":[\"2016-02-27T00:00:00Z\"],\"name\":\"...   \n",
       "184    [{\"dateSeen\":[\"2016-04-06T00:00:00Z\"],\"name\":\"...   \n",
       "202    [{\"dateSeen\":[\"2016-04-11T00:00:00Z\"],\"name\":\"...   \n",
       "...                                                  ...   \n",
       "19011  [{\"dateSeen\":[\"2016-04-01T00:00:00Z\"],\"name\":\"...   \n",
       "19036  [{\"dateSeen\":[\"2016-04-01T00:00:00Z\"],\"name\":\"...   \n",
       "19079  [{\"dateSeen\":[\"2016-04-03T00:00:00Z\"],\"name\":\"...   \n",
       "19080  [{\"dateSeen\":[\"2016-04-03T00:00:00Z\"],\"name\":\"...   \n",
       "19296  [{\"dateSeen\":[\"2016-03-02T00:00:00Z\"],\"name\":\"...   \n",
       "\n",
       "                                                    name prices_amountmin  \\\n",
       "60     Nike Shox Turbo Vi Sl 555341-160 White/gym Red...           119.99   \n",
       "113    Nike Jordan Flight Runner 2 Black/red/gray Men...           109.95   \n",
       "128    Nike Men's Air Max Ltd 3 (687977-002) Wolf Gre...            78.00   \n",
       "184    Nike Air Zoom Terra Kiger 2 Athletic Sneakers ...            69.99   \n",
       "202    Nib Nike Air Jordan Melo M11 Xi Hare Grey Mist...            69.99   \n",
       "...                                                  ...              ...   \n",
       "19011  Nike Air Max Tailwind+ 5 Men Us 12 Blue Sneake...            68.99   \n",
       "19036  Adidas Lite Racer Mens Casual Running Shoe (bl...            51.99   \n",
       "19079     Nike Air Jordan Future Dark Grey Volt Sz 9 Nib            79.95   \n",
       "19080     Nike Air Jordan Future Dark Grey Volt Sz 9 Nib            99.94   \n",
       "19296  Patrick Ewing 9m Men's White/jamaica 33 High M...            44.00   \n",
       "\n",
       "      prices_amountmax  \n",
       "60              119.99  \n",
       "113             109.95  \n",
       "128              78.00  \n",
       "184              69.99  \n",
       "202              69.99  \n",
       "...                ...  \n",
       "19011            68.99  \n",
       "19036            51.99  \n",
       "19079            79.95  \n",
       "19080            99.94  \n",
       "19296            44.00  \n",
       "\n",
       "[400 rows x 4 columns]"
      ]
     },
     "execution_count": 40,
     "metadata": {},
     "output_type": "execute_result"
    }
   ],
   "source": [
    "intrestTrain.iloc[0:400,[18,19,20,21]]"
   ]
  },
  {
   "cell_type": "code",
   "execution_count": 41,
   "id": "805612ef-7def-4d19-8953-5b553dcf8ee0",
   "metadata": {},
   "outputs": [
    {
     "data": {
      "text/plain": [
       "69.99     16\n",
       "49.99     15\n",
       "59.99     14\n",
       "89.99     14\n",
       "99.99     12\n",
       "          ..\n",
       "57.77      1\n",
       "105.00     1\n",
       "44.00      1\n",
       "330.00     1\n",
       "121.50     1\n",
       "Name: prices_amountmax, Length: 216, dtype: int64"
      ]
     },
     "execution_count": 41,
     "metadata": {},
     "output_type": "execute_result"
    }
   ],
   "source": [
    "intrestTrain.iloc[0:400,[19,20,21]]['prices_amountmax'].value_counts()"
   ]
  },
  {
   "cell_type": "code",
   "execution_count": 43,
   "id": "b2b77f31-0c67-429f-b676-0160feb49f06",
   "metadata": {},
   "outputs": [
    {
     "data": {
      "text/plain": [
       "count       400\n",
       "unique      216\n",
       "top       69.99\n",
       "freq         16\n",
       "Name: prices_amountmax, dtype: object"
      ]
     },
     "execution_count": 43,
     "metadata": {},
     "output_type": "execute_result"
    }
   ],
   "source": [
    "intrestTrain.iloc[0:400,[19,20,21]]['prices_amountmax'].describe()"
   ]
  },
  {
   "cell_type": "code",
   "execution_count": 42,
   "id": "9566ac8d-5f20-4471-9527-b1aaaa7993f3",
   "metadata": {},
   "outputs": [],
   "source": [
    "train_2=intrestTrain.iloc[0:400,[19,20,21]]"
   ]
  },
  {
   "cell_type": "code",
   "execution_count": 24,
   "id": "b130e305-36ec-463f-8e94-f854813995e2",
   "metadata": {},
   "outputs": [
    {
     "name": "stdout",
     "output_type": "stream",
     "text": [
      "<class 'pandas.core.frame.DataFrame'>\n",
      "Int64Index: 400 entries, 60 to 19296\n",
      "Data columns (total 3 columns):\n",
      " #   Column            Non-Null Count  Dtype \n",
      "---  ------            --------------  ----- \n",
      " 0   merchants         400 non-null    object\n",
      " 1   prices_amountmin  400 non-null    object\n",
      " 2   prices_amountmax  400 non-null    object\n",
      "dtypes: object(3)\n",
      "memory usage: 12.5+ KB\n"
     ]
    }
   ],
   "source": [
    "train_2.info()"
   ]
  },
  {
   "cell_type": "code",
   "execution_count": 44,
   "id": "ad196ef8-7c4b-4b32-a594-53da878a7bdf",
   "metadata": {},
   "outputs": [],
   "source": [
    "train_2['prices_amountmax']=train_2['prices_amountmax'].astype(float)"
   ]
  },
  {
   "cell_type": "code",
   "execution_count": 45,
   "id": "2466e272-f36d-4332-a20b-ba6c9068f8d9",
   "metadata": {},
   "outputs": [
    {
     "name": "stdout",
     "output_type": "stream",
     "text": [
      "<class 'pandas.core.frame.DataFrame'>\n",
      "Int64Index: 400 entries, 60 to 19296\n",
      "Data columns (total 3 columns):\n",
      " #   Column            Non-Null Count  Dtype  \n",
      "---  ------            --------------  -----  \n",
      " 0   name              400 non-null    object \n",
      " 1   prices_amountmin  400 non-null    object \n",
      " 2   prices_amountmax  400 non-null    float64\n",
      "dtypes: float64(1), object(2)\n",
      "memory usage: 12.5+ KB\n"
     ]
    }
   ],
   "source": [
    "train_2.info()"
   ]
  },
  {
   "cell_type": "code",
   "execution_count": 46,
   "id": "1c8a76eb-48c9-4faf-8304-4c4cbca61ddb",
   "metadata": {},
   "outputs": [],
   "source": [
    "train_2['prices_amountmin']=train_2['prices_amountmin'].astype(float)"
   ]
  },
  {
   "cell_type": "code",
   "execution_count": 47,
   "id": "1303bb6d-9d59-43a5-8e38-1a0802f672c8",
   "metadata": {},
   "outputs": [
    {
     "data": {
      "text/plain": [
       "count     400.000000\n",
       "mean       99.501800\n",
       "std       175.324776\n",
       "min         4.990000\n",
       "25%        46.990000\n",
       "50%        69.990000\n",
       "75%       104.992500\n",
       "max      2799.950000\n",
       "Name: prices_amountmax, dtype: float64"
      ]
     },
     "execution_count": 47,
     "metadata": {},
     "output_type": "execute_result"
    }
   ],
   "source": [
    "train_2['prices_amountmax'].describe()"
   ]
  },
  {
   "cell_type": "code",
   "execution_count": 48,
   "id": "58840783-3fd7-40f4-949e-d8e26f0455ff",
   "metadata": {},
   "outputs": [
    {
     "data": {
      "text/plain": [
       "2799.95    1\n",
       "1250.00    1\n",
       "1225.00    1\n",
       "999.00     1\n",
       "449.99     1\n",
       "          ..\n",
       "14.00      1\n",
       "11.99      1\n",
       "9.99       1\n",
       "5.99       1\n",
       "4.99       1\n",
       "Name: prices_amountmax, Length: 216, dtype: int64"
      ]
     },
     "execution_count": 48,
     "metadata": {},
     "output_type": "execute_result"
    }
   ],
   "source": [
    "train_2['prices_amountmax'].value_counts().sort_index(ascending=False)"
   ]
  },
  {
   "cell_type": "code",
   "execution_count": 49,
   "id": "e0cd32a8-3f38-4d76-bae2-37994262b04b",
   "metadata": {},
   "outputs": [
    {
     "data": {
      "text/plain": [
       "69.99    16\n",
       "49.99    15\n",
       "89.99    14\n",
       "59.99    14\n",
       "99.99    12\n",
       "         ..\n",
       "80.00     1\n",
       "40.99     1\n",
       "5.99      1\n",
       "98.13     1\n",
       "49.98     1\n",
       "Name: prices_amountmax, Length: 216, dtype: int64"
      ]
     },
     "execution_count": 49,
     "metadata": {},
     "output_type": "execute_result"
    }
   ],
   "source": [
    "train_2['prices_amountmax'].value_counts().sort_values(ascending=False)"
   ]
  },
  {
   "cell_type": "code",
   "execution_count": 32,
   "id": "a9d0b3ee-6e2c-41eb-b772-be3ffbb2fb2d",
   "metadata": {},
   "outputs": [
    {
     "data": {
      "text/plain": [
       "1452     2799.95\n",
       "4427     1250.00\n",
       "11249    1225.00\n",
       "12444     999.00\n",
       "4894      449.99\n",
       "          ...   \n",
       "18876      14.00\n",
       "2478       11.99\n",
       "11561       9.99\n",
       "9766        5.99\n",
       "18204       4.99\n",
       "Name: prices_amountmax, Length: 400, dtype: float64"
      ]
     },
     "execution_count": 32,
     "metadata": {},
     "output_type": "execute_result"
    }
   ],
   "source": [
    "train_2['prices_amountmax'].sort_values(ascending=False)"
   ]
  },
  {
   "cell_type": "code",
   "execution_count": 34,
   "id": "e4eed3d0-3f93-47f2-a0a5-92248d9eb243",
   "metadata": {},
   "outputs": [
    {
     "data": {
      "text/plain": [
       "1452     2799.95\n",
       "4427     1250.00\n",
       "11249    1225.00\n",
       "12444     999.00\n",
       "4894      449.99\n",
       "10452     445.00\n",
       "1304      399.50\n",
       "16561     330.00\n",
       "4895      306.00\n",
       "4228      299.99\n",
       "Name: prices_amountmax, dtype: float64"
      ]
     },
     "execution_count": 34,
     "metadata": {},
     "output_type": "execute_result"
    }
   ],
   "source": [
    "train_2['prices_amountmax'].sort_values(ascending=False)[0:10]"
   ]
  },
  {
   "cell_type": "code",
   "execution_count": 35,
   "id": "f9c87bbb-4bf0-42ad-99ef-0b66a0426460",
   "metadata": {},
   "outputs": [
    {
     "data": {
      "text/plain": [
       "60       False\n",
       "113      False\n",
       "128      False\n",
       "184      False\n",
       "202      False\n",
       "         ...  \n",
       "19011    False\n",
       "19036    False\n",
       "19079    False\n",
       "19080    False\n",
       "19296    False\n",
       "Name: prices_amountmax, Length: 400, dtype: bool"
      ]
     },
     "execution_count": 35,
     "metadata": {},
     "output_type": "execute_result"
    }
   ],
   "source": [
    "train_2['prices_amountmax']>=299.99"
   ]
  },
  {
   "cell_type": "code",
   "execution_count": 50,
   "id": "bda769d3-f4b5-4828-b99f-d11d0daee278",
   "metadata": {},
   "outputs": [
    {
     "data": {
      "text/html": [
       "<div>\n",
       "<style scoped>\n",
       "    .dataframe tbody tr th:only-of-type {\n",
       "        vertical-align: middle;\n",
       "    }\n",
       "\n",
       "    .dataframe tbody tr th {\n",
       "        vertical-align: top;\n",
       "    }\n",
       "\n",
       "    .dataframe thead th {\n",
       "        text-align: right;\n",
       "    }\n",
       "</style>\n",
       "<table border=\"1\" class=\"dataframe\">\n",
       "  <thead>\n",
       "    <tr style=\"text-align: right;\">\n",
       "      <th></th>\n",
       "      <th>name</th>\n",
       "      <th>prices_amountmin</th>\n",
       "      <th>prices_amountmax</th>\n",
       "    </tr>\n",
       "  </thead>\n",
       "  <tbody>\n",
       "    <tr>\n",
       "      <th>1304</th>\n",
       "      <td>Nike Air Jordan 6 Retro Slam Dunk Sz 11 717302...</td>\n",
       "      <td>399.50</td>\n",
       "      <td>399.50</td>\n",
       "    </tr>\n",
       "    <tr>\n",
       "      <th>1452</th>\n",
       "      <td>Yeezy Boost 350 Turtle Doves Kanye West 2015 P...</td>\n",
       "      <td>2799.95</td>\n",
       "      <td>2799.95</td>\n",
       "    </tr>\n",
       "    <tr>\n",
       "      <th>4228</th>\n",
       "      <td>\"Nike Zoom Vapor 9.5 Tour Lg \"roger Federer Li...</td>\n",
       "      <td>299.99</td>\n",
       "      <td>299.99</td>\n",
       "    </tr>\n",
       "    <tr>\n",
       "      <th>4427</th>\n",
       "      <td>Adidas Boost 350 Oxford Tan Yeezy 8us Ds With ...</td>\n",
       "      <td>1250.00</td>\n",
       "      <td>1250.00</td>\n",
       "    </tr>\n",
       "    <tr>\n",
       "      <th>4894</th>\n",
       "      <td>Vtg Og 1997 Nike Air Jordan Xii 12 S Sz 9 Flu ...</td>\n",
       "      <td>449.99</td>\n",
       "      <td>449.99</td>\n",
       "    </tr>\n",
       "    <tr>\n",
       "      <th>4895</th>\n",
       "      <td>Vtg Og 1997 Nike Air Jordan Xii 12 S Sz 9 Flu ...</td>\n",
       "      <td>306.00</td>\n",
       "      <td>306.00</td>\n",
       "    </tr>\n",
       "    <tr>\n",
       "      <th>10452</th>\n",
       "      <td>Brand New In Box Retro Air Jordan 1 Fragment B...</td>\n",
       "      <td>445.00</td>\n",
       "      <td>445.00</td>\n",
       "    </tr>\n",
       "    <tr>\n",
       "      <th>11249</th>\n",
       "      <td>Nike Air Jordan Xii 12 Rare Wings Men's Shoes ...</td>\n",
       "      <td>1225.00</td>\n",
       "      <td>1225.00</td>\n",
       "    </tr>\n",
       "    <tr>\n",
       "      <th>12444</th>\n",
       "      <td>Adidas Yeezy Boost 350 Pirate Black Sz 9 - 100...</td>\n",
       "      <td>999.00</td>\n",
       "      <td>999.00</td>\n",
       "    </tr>\n",
       "    <tr>\n",
       "      <th>16561</th>\n",
       "      <td>Nike Air Jordan 11 Xi Retro Concord White/blac...</td>\n",
       "      <td>330.00</td>\n",
       "      <td>330.00</td>\n",
       "    </tr>\n",
       "  </tbody>\n",
       "</table>\n",
       "</div>"
      ],
      "text/plain": [
       "                                                    name  prices_amountmin  \\\n",
       "1304   Nike Air Jordan 6 Retro Slam Dunk Sz 11 717302...            399.50   \n",
       "1452   Yeezy Boost 350 Turtle Doves Kanye West 2015 P...           2799.95   \n",
       "4228   \"Nike Zoom Vapor 9.5 Tour Lg \"roger Federer Li...            299.99   \n",
       "4427   Adidas Boost 350 Oxford Tan Yeezy 8us Ds With ...           1250.00   \n",
       "4894   Vtg Og 1997 Nike Air Jordan Xii 12 S Sz 9 Flu ...            449.99   \n",
       "4895   Vtg Og 1997 Nike Air Jordan Xii 12 S Sz 9 Flu ...            306.00   \n",
       "10452  Brand New In Box Retro Air Jordan 1 Fragment B...            445.00   \n",
       "11249  Nike Air Jordan Xii 12 Rare Wings Men's Shoes ...           1225.00   \n",
       "12444  Adidas Yeezy Boost 350 Pirate Black Sz 9 - 100...            999.00   \n",
       "16561  Nike Air Jordan 11 Xi Retro Concord White/blac...            330.00   \n",
       "\n",
       "       prices_amountmax  \n",
       "1304             399.50  \n",
       "1452            2799.95  \n",
       "4228             299.99  \n",
       "4427            1250.00  \n",
       "4894             449.99  \n",
       "4895             306.00  \n",
       "10452            445.00  \n",
       "11249           1225.00  \n",
       "12444            999.00  \n",
       "16561            330.00  "
      ]
     },
     "execution_count": 50,
     "metadata": {},
     "output_type": "execute_result"
    }
   ],
   "source": [
    "train_2[train_2['prices_amountmax']>=299.99]"
   ]
  },
  {
   "cell_type": "code",
   "execution_count": 51,
   "id": "46490d81-16b6-4640-8533-6efd54e2fd23",
   "metadata": {
    "collapsed": true,
    "jupyter": {
     "outputs_hidden": true
    },
    "tags": []
   },
   "outputs": [
    {
     "name": "stdout",
     "output_type": "stream",
     "text": [
      "Collecting logging"
     ]
    },
    {
     "name": "stderr",
     "output_type": "stream",
     "text": [
      "  ERROR: Command errored out with exit status 1:\n",
      "   command: 'C:\\Users\\paluchur\\Anaconda3\\python.exe' -u -c 'import sys, setuptools, tokenize; sys.argv[0] = '\"'\"'C:\\\\Users\\\\paluchur\\\\AppData\\\\Local\\\\Temp\\\\pip-install-xx015siu\\\\logging_adbf463d1efd42a7bda39905ec70df1a\\\\setup.py'\"'\"'; __file__='\"'\"'C:\\\\Users\\\\paluchur\\\\AppData\\\\Local\\\\Temp\\\\pip-install-xx015siu\\\\logging_adbf463d1efd42a7bda39905ec70df1a\\\\setup.py'\"'\"';f=getattr(tokenize, '\"'\"'open'\"'\"', open)(__file__);code=f.read().replace('\"'\"'\\r\\n'\"'\"', '\"'\"'\\n'\"'\"');f.close();exec(compile(code, __file__, '\"'\"'exec'\"'\"'))' bdist_wheel -d 'C:\\Users\\paluchur\\AppData\\Local\\Temp\\pip-wheel-8_2vyn9l'\n",
      "       cwd: C:\\Users\\paluchur\\AppData\\Local\\Temp\\pip-install-xx015siu\\logging_adbf463d1efd42a7bda39905ec70df1a\\\n",
      "  Complete output (26 lines):\n",
      "  Traceback (most recent call last):\n",
      "    File \"<string>\", line 1, in <module>\n",
      "    File \"C:\\Users\\paluchur\\AppData\\Local\\Temp\\pip-install-xx015siu\\logging_adbf463d1efd42a7bda39905ec70df1a\\setup.py\", line 3, in <module>\n",
      "      setup(name = \"logging\",\n",
      "    File \"C:\\Users\\paluchur\\Anaconda3\\lib\\distutils\\core.py\", line 134, in setup\n",
      "      ok = dist.parse_command_line()\n",
      "    File \"C:\\Users\\paluchur\\Anaconda3\\lib\\distutils\\dist.py\", line 483, in parse_command_line\n",
      "      args = self._parse_command_opts(parser, args)\n",
      "    File \"C:\\Users\\paluchur\\Anaconda3\\lib\\site-packages\\setuptools\\dist.py\", line 916, in _parse_command_opts\n",
      "      nargs = _Distribution._parse_command_opts(self, parser, args)\n",
      "    File \"C:\\Users\\paluchur\\Anaconda3\\lib\\distutils\\dist.py\", line 539, in _parse_command_opts\n",
      "      cmd_class = self.get_command_class(command)\n",
      "    File \"C:\\Users\\paluchur\\Anaconda3\\lib\\site-packages\\setuptools\\dist.py\", line 755, in get_command_class\n",
      "      self.cmdclass[command] = cmdclass = ep.load()\n",
      "    File \"C:\\Users\\paluchur\\Anaconda3\\lib\\site-packages\\pkg_resources\\__init__.py\", line 2450, in load\n",
      "      return self.resolve()\n",
      "    File \"C:\\Users\\paluchur\\Anaconda3\\lib\\site-packages\\pkg_resources\\__init__.py\", line 2456, in resolve\n",
      "      module = __import__(self.module_name, fromlist=['__name__'], level=0)\n",
      "    File \"C:\\Users\\paluchur\\Anaconda3\\lib\\site-packages\\wheel\\bdist_wheel.py\", line 28, in <module>\n",
      "      from .vendored.packaging import tags\n",
      "    File \"C:\\Users\\paluchur\\Anaconda3\\lib\\site-packages\\wheel\\vendored\\packaging\\tags.py\", line 17, in <module>\n",
      "      import logging\n",
      "    File \"C:\\Users\\paluchur\\AppData\\Local\\Temp\\pip-install-xx015siu\\logging_adbf463d1efd42a7bda39905ec70df1a\\logging\\__init__.py\", line 618\n",
      "      raise NotImplementedError, 'emit must be implemented '\\\n",
      "                               ^\n",
      "  SyntaxError: invalid syntax\n",
      "  ----------------------------------------\n",
      "  ERROR: Failed building wheel for logging\n",
      "    ERROR: Command errored out with exit status 1:\n",
      "     command: 'C:\\Users\\paluchur\\Anaconda3\\python.exe' -u -c 'import sys, setuptools, tokenize; sys.argv[0] = '\"'\"'C:\\\\Users\\\\paluchur\\\\AppData\\\\Local\\\\Temp\\\\pip-install-xx015siu\\\\logging_adbf463d1efd42a7bda39905ec70df1a\\\\setup.py'\"'\"'; __file__='\"'\"'C:\\\\Users\\\\paluchur\\\\AppData\\\\Local\\\\Temp\\\\pip-install-xx015siu\\\\logging_adbf463d1efd42a7bda39905ec70df1a\\\\setup.py'\"'\"';f=getattr(tokenize, '\"'\"'open'\"'\"', open)(__file__);code=f.read().replace('\"'\"'\\r\\n'\"'\"', '\"'\"'\\n'\"'\"');f.close();exec(compile(code, __file__, '\"'\"'exec'\"'\"'))' install --record 'C:\\Users\\paluchur\\AppData\\Local\\Temp\\pip-record-grl_qg74\\install-record.txt' --single-version-externally-managed --compile --install-headers 'C:\\Users\\paluchur\\Anaconda3\\Include\\logging'\n",
      "         cwd: C:\\Users\\paluchur\\AppData\\Local\\Temp\\pip-install-xx015siu\\logging_adbf463d1efd42a7bda39905ec70df1a\\\n",
      "    Complete output (75 lines):\n",
      "    running install\n",
      "    running build\n",
      "    running build_py\n",
      "    creating build\n",
      "    creating build\\lib\n",
      "    creating build\\lib\\logging\n",
      "    copying logging\\config.py -> build\\lib\\logging\n",
      "    copying logging\\handlers.py -> build\\lib\\logging\n",
      "    copying logging\\__init__.py -> build\\lib\\logging\n",
      "    running install_lib\n",
      "    creating C:\\Users\\paluchur\\Anaconda3\\Lib\\site-packages\\logging\n",
      "    copying build\\lib\\logging\\config.py -> C:\\Users\\paluchur\\Anaconda3\\Lib\\site-packages\\logging\n",
      "    copying build\\lib\\logging\\handlers.py -> C:\\Users\\paluchur\\Anaconda3\\Lib\\site-packages\\logging\n",
      "    copying build\\lib\\logging\\__init__.py -> C:\\Users\\paluchur\\Anaconda3\\Lib\\site-packages\\logging\n",
      "    byte-compiling C:\\Users\\paluchur\\Anaconda3\\Lib\\site-packages\\logging\\config.py to config.cpython-38.pyc\n",
      "      File \"C:\\Users\\paluchur\\Anaconda3\\Lib\\site-packages\\logging\\config.py\", line 216\n",
      "        raise NotImplementedError, \"listen() needs threading to work\"\n",
      "                                 ^\n",
      "    SyntaxError: invalid syntax\n",
      "    \n",
      "    byte-compiling C:\\Users\\paluchur\\Anaconda3\\Lib\\site-packages\\logging\\handlers.py to handlers.cpython-38.pyc\n",
      "      File \"C:\\Users\\paluchur\\Anaconda3\\Lib\\site-packages\\logging\\handlers.py\", line 757\n",
      "        print \"The Python Win32 extensions for NT (service, event \"\\\n",
      "              ^\n",
      "    SyntaxError: invalid syntax\n",
      "    \n",
      "    byte-compiling C:\\Users\\paluchur\\Anaconda3\\Lib\\site-packages\\logging\\__init__.py to __init__.cpython-38.pyc\n",
      "      File \"C:\\Users\\paluchur\\Anaconda3\\Lib\\site-packages\\logging\\__init__.py\", line 618\n",
      "        raise NotImplementedError, 'emit must be implemented '\\\n",
      "                                 ^\n",
      "    SyntaxError: invalid syntax\n",
      "    \n",
      "    running install_egg_info\n",
      "    running egg_info\n",
      "    creating logging.egg-info\n",
      "    writing logging.egg-info\\PKG-INFO\n",
      "    writing dependency_links to logging.egg-info\\dependency_links.txt\n",
      "    writing top-level names to logging.egg-info\\top_level.txt\n",
      "    writing manifest file 'logging.egg-info\\SOURCES.txt'"
     ]
    },
    {
     "name": "stdout",
     "output_type": "stream",
     "text": [
      "\n",
      "  Downloading logging-0.4.9.6.tar.gz (96 kB)\n",
      "Building wheels for collected packages: logging\n",
      "  Building wheel for logging (setup.py): started\n",
      "  Building wheel for logging (setup.py): finished with status 'error'\n",
      "  Running setup.py clean for logging\n",
      "Failed to build logging\n",
      "Installing collected packages: logging\n",
      "    Running setup.py install for logging: started\n",
      "    Running setup.py install for logging: finished with status 'error'\n"
     ]
    },
    {
     "name": "stderr",
     "output_type": "stream",
     "text": [
      "\n",
      "    reading manifest file 'logging.egg-info\\SOURCES.txt'\n",
      "    writing manifest file 'logging.egg-info\\SOURCES.txt'\n",
      "    Copying logging.egg-info to C:\\Users\\paluchur\\Anaconda3\\Lib\\site-packages\\logging-0.4.9.6-py3.8.egg-info\n",
      "    running install_scripts\n",
      "    Traceback (most recent call last):\n",
      "      File \"<string>\", line 1, in <module>\n",
      "      File \"C:\\Users\\paluchur\\AppData\\Local\\Temp\\pip-install-xx015siu\\logging_adbf463d1efd42a7bda39905ec70df1a\\setup.py\", line 3, in <module>\n",
      "        setup(name = \"logging\",\n",
      "      File \"C:\\Users\\paluchur\\Anaconda3\\lib\\distutils\\core.py\", line 148, in setup\n",
      "        dist.run_commands()\n",
      "      File \"C:\\Users\\paluchur\\Anaconda3\\lib\\distutils\\dist.py\", line 966, in run_commands\n",
      "        self.run_command(cmd)\n",
      "      File \"C:\\Users\\paluchur\\Anaconda3\\lib\\distutils\\dist.py\", line 985, in run_command\n",
      "        cmd_obj.run()\n",
      "      File \"C:\\Users\\paluchur\\Anaconda3\\lib\\site-packages\\setuptools\\command\\install.py\", line 61, in run\n",
      "        return orig.install.run(self)\n",
      "      File \"C:\\Users\\paluchur\\Anaconda3\\lib\\distutils\\command\\install.py\", line 557, in run\n",
      "        self.run_command(cmd_name)\n",
      "      File \"C:\\Users\\paluchur\\Anaconda3\\lib\\distutils\\cmd.py\", line 313, in run_command\n",
      "        self.distribution.run_command(command)\n",
      "      File \"C:\\Users\\paluchur\\Anaconda3\\lib\\distutils\\dist.py\", line 985, in run_command\n",
      "        cmd_obj.run()\n",
      "      File \"C:\\Users\\paluchur\\Anaconda3\\lib\\site-packages\\setuptools\\command\\install_scripts.py\", line 17, in run\n",
      "        import setuptools.command.easy_install as ei\n",
      "      File \"C:\\Users\\paluchur\\Anaconda3\\lib\\site-packages\\setuptools\\command\\easy_install.py\", line 52, in <module>\n",
      "        from setuptools.package_index import (\n",
      "      File \"C:\\Users\\paluchur\\Anaconda3\\lib\\site-packages\\setuptools\\package_index.py\", line 30, in <module>\n",
      "        from setuptools.wheel import Wheel\n",
      "      File \"C:\\Users\\paluchur\\Anaconda3\\lib\\site-packages\\setuptools\\wheel.py\", line 15, in <module>\n",
      "        from setuptools.extern.packaging.tags import sys_tags\n",
      "      File \"C:\\Users\\paluchur\\Anaconda3\\lib\\site-packages\\setuptools\\_vendor\\packaging\\tags.py\", line 16, in <module>\n",
      "        import logging\n",
      "      File \"C:\\Users\\paluchur\\AppData\\Local\\Temp\\pip-install-xx015siu\\logging_adbf463d1efd42a7bda39905ec70df1a\\logging\\__init__.py\", line 618\n",
      "        raise NotImplementedError, 'emit must be implemented '\\\n",
      "                                 ^\n",
      "    SyntaxError: invalid syntax\n",
      "    ----------------------------------------\n",
      "ERROR: Command errored out with exit status 1: 'C:\\Users\\paluchur\\Anaconda3\\python.exe' -u -c 'import sys, setuptools, tokenize; sys.argv[0] = '\"'\"'C:\\\\Users\\\\paluchur\\\\AppData\\\\Local\\\\Temp\\\\pip-install-xx015siu\\\\logging_adbf463d1efd42a7bda39905ec70df1a\\\\setup.py'\"'\"'; __file__='\"'\"'C:\\\\Users\\\\paluchur\\\\AppData\\\\Local\\\\Temp\\\\pip-install-xx015siu\\\\logging_adbf463d1efd42a7bda39905ec70df1a\\\\setup.py'\"'\"';f=getattr(tokenize, '\"'\"'open'\"'\"', open)(__file__);code=f.read().replace('\"'\"'\\r\\n'\"'\"', '\"'\"'\\n'\"'\"');f.close();exec(compile(code, __file__, '\"'\"'exec'\"'\"'))' install --record 'C:\\Users\\paluchur\\AppData\\Local\\Temp\\pip-record-grl_qg74\\install-record.txt' --single-version-externally-managed --compile --install-headers 'C:\\Users\\paluchur\\Anaconda3\\Include\\logging' Check the logs for full command output.\n"
     ]
    }
   ],
   "source": [
    "!pip install logging"
   ]
  },
  {
   "cell_type": "code",
   "execution_count": 52,
   "id": "628bc6ad-c3f9-4f12-8ada-e9390d3b39dc",
   "metadata": {},
   "outputs": [],
   "source": [
    "import logging"
   ]
  },
  {
   "cell_type": "code",
   "execution_count": 53,
   "id": "97e6c7e9-5c11-4e57-ad2f-23655b2cfde6",
   "metadata": {},
   "outputs": [],
   "source": [
    "import os "
   ]
  },
  {
   "cell_type": "code",
   "execution_count": 54,
   "id": "21597658-58fb-418f-8578-b770509f5845",
   "metadata": {},
   "outputs": [
    {
     "name": "stdout",
     "output_type": "stream",
     "text": [
      "['DirEntry', 'F_OK', 'MutableMapping', 'O_APPEND', 'O_BINARY', 'O_CREAT', 'O_EXCL', 'O_NOINHERIT', 'O_RANDOM', 'O_RDONLY', 'O_RDWR', 'O_SEQUENTIAL', 'O_SHORT_LIVED', 'O_TEMPORARY', 'O_TEXT', 'O_TRUNC', 'O_WRONLY', 'P_DETACH', 'P_NOWAIT', 'P_NOWAITO', 'P_OVERLAY', 'P_WAIT', 'PathLike', 'R_OK', 'SEEK_CUR', 'SEEK_END', 'SEEK_SET', 'TMP_MAX', 'W_OK', 'X_OK', '_AddedDllDirectory', '_Environ', '__all__', '__builtins__', '__cached__', '__doc__', '__file__', '__loader__', '__name__', '__package__', '__spec__', '_check_methods', '_execvpe', '_exists', '_exit', '_fspath', '_get_exports_list', '_putenv', '_unsetenv', '_wrap_close', 'abc', 'abort', 'access', 'add_dll_directory', 'altsep', 'chdir', 'chmod', 'close', 'closerange', 'cpu_count', 'curdir', 'defpath', 'device_encoding', 'devnull', 'dup', 'dup2', 'environ', 'error', 'execl', 'execle', 'execlp', 'execlpe', 'execv', 'execve', 'execvp', 'execvpe', 'extsep', 'fdopen', 'fsdecode', 'fsencode', 'fspath', 'fstat', 'fsync', 'ftruncate', 'get_exec_path', 'get_handle_inheritable', 'get_inheritable', 'get_terminal_size', 'getcwd', 'getcwdb', 'getenv', 'getlogin', 'getpid', 'getppid', 'isatty', 'kill', 'linesep', 'link', 'listdir', 'lseek', 'lstat', 'makedirs', 'mkdir', 'name', 'open', 'pardir', 'path', 'pathsep', 'pipe', 'popen', 'putenv', 'read', 'readlink', 'remove', 'removedirs', 'rename', 'renames', 'replace', 'rmdir', 'scandir', 'sep', 'set_handle_inheritable', 'set_inheritable', 'spawnl', 'spawnle', 'spawnv', 'spawnve', 'st', 'startfile', 'stat', 'stat_result', 'statvfs_result', 'strerror', 'supports_bytes_environ', 'supports_dir_fd', 'supports_effective_ids', 'supports_fd', 'supports_follow_symlinks', 'symlink', 'sys', 'system', 'terminal_size', 'times', 'times_result', 'truncate', 'umask', 'uname_result', 'unlink', 'urandom', 'utime', 'waitpid', 'walk', 'write']\n"
     ]
    }
   ],
   "source": [
    "print(dir(os))"
   ]
  },
  {
   "cell_type": "code",
   "execution_count": 55,
   "id": "43b81a8f-54c9-451b-9e17-960688caf0ff",
   "metadata": {},
   "outputs": [],
   "source": [
    "os.mkdir('logging')"
   ]
  },
  {
   "cell_type": "code",
   "execution_count": 56,
   "id": "0f479e84-f54f-4f3c-ae19-fa677eaad021",
   "metadata": {},
   "outputs": [
    {
     "data": {
      "text/plain": [
       "'C:\\\\Users\\\\paluchur\\\\OneDrive - Capgemini\\\\Desktop\\\\Python_intro'"
      ]
     },
     "execution_count": 56,
     "metadata": {},
     "output_type": "execute_result"
    }
   ],
   "source": [
    "os.getcwd()"
   ]
  },
  {
   "cell_type": "code",
   "execution_count": 57,
   "id": "6d0f6979-784e-4f60-adf4-7912b268878e",
   "metadata": {},
   "outputs": [],
   "source": [
    "os.chdir(os.getcwd() +'/' + 'logging')"
   ]
  },
  {
   "cell_type": "code",
   "execution_count": 59,
   "id": "1899a4fe-617b-4b99-a0a3-da84e5c78ea4",
   "metadata": {},
   "outputs": [
    {
     "data": {
      "text/plain": [
       "'C:\\\\Users\\\\paluchur\\\\OneDrive - Capgemini\\\\Desktop\\\\Python_intro\\\\logging'"
      ]
     },
     "execution_count": 59,
     "metadata": {},
     "output_type": "execute_result"
    }
   ],
   "source": [
    "os.getcwd()"
   ]
  },
  {
   "cell_type": "code",
   "execution_count": 60,
   "id": "8fa3b13e-0af9-4cd0-bdb9-590219a5d910",
   "metadata": {
    "collapsed": true,
    "jupyter": {
     "outputs_hidden": true
    },
    "tags": []
   },
   "outputs": [
    {
     "name": "stdout",
     "output_type": "stream",
     "text": [
      "['BASIC_FORMAT', 'BufferingFormatter', 'CRITICAL', 'DEBUG', 'ERROR', 'FATAL', 'FileHandler', 'Filter', 'Filterer', 'Formatter', 'Handler', 'INFO', 'LogRecord', 'Logger', 'LoggerAdapter', 'Manager', 'NOTSET', 'NullHandler', 'PercentStyle', 'PlaceHolder', 'RootLogger', 'StrFormatStyle', 'StreamHandler', 'StringTemplateStyle', 'Template', 'WARN', 'WARNING', '_STYLES', '_StderrHandler', '__all__', '__author__', '__builtins__', '__cached__', '__date__', '__doc__', '__file__', '__loader__', '__name__', '__package__', '__path__', '__spec__', '__status__', '__version__', '_acquireLock', '_addHandlerRef', '_checkLevel', '_defaultFormatter', '_defaultLastResort', '_handlerList', '_handlers', '_levelToName', '_lock', '_logRecordFactory', '_loggerClass', '_nameToLevel', '_register_at_fork_reinit_lock', '_releaseLock', '_removeHandlerRef', '_showwarning', '_srcfile', '_startTime', '_str_formatter', '_warnings_showwarning', 'addLevelName', 'atexit', 'basicConfig', 'captureWarnings', 'collections', 'critical', 'currentframe', 'debug', 'disable', 'error', 'exception', 'fatal', 'getLevelName', 'getLogRecordFactory', 'getLogger', 'getLoggerClass', 'handlers', 'info', 'io', 'lastResort', 'log', 'logMultiprocessing', 'logProcesses', 'logThreads', 'makeLogRecord', 'os', 'raiseExceptions', 're', 'root', 'setLogRecordFactory', 'setLoggerClass', 'shutdown', 'sys', 'threading', 'time', 'traceback', 'warn', 'warning', 'warnings', 'weakref']\n"
     ]
    }
   ],
   "source": [
    "print(dir(logging))"
   ]
  },
  {
   "cell_type": "code",
   "execution_count": 61,
   "id": "c07cf308-1964-4aad-9b35-3deaf948d9fd",
   "metadata": {},
   "outputs": [],
   "source": [
    "import logging as lg"
   ]
  },
  {
   "cell_type": "code",
   "execution_count": 63,
   "id": "ae25eadd-f3e1-4daa-adf6-8f6e033cf83f",
   "metadata": {},
   "outputs": [],
   "source": [
    "lg.basicConfig(filename='C:\\\\Users\\\\paluchur\\\\OneDrive - Capgemini\\\\Desktop\\\\Python_intro\\\\logging\\\\test.log',level=lg.ERROR,format='%(asctime)s %(message)s' )"
   ]
  },
  {
   "cell_type": "code",
   "execution_count": 65,
   "id": "a27f1dc9-f340-487b-a3e9-9793160535c2",
   "metadata": {},
   "outputs": [],
   "source": [
    "lg.error('This is msg for Error')"
   ]
  },
  {
   "cell_type": "code",
   "execution_count": 66,
   "id": "bbec973d-d400-4bc7-a205-d66c3c8a522e",
   "metadata": {},
   "outputs": [],
   "source": [
    "lg.shutdown()"
   ]
  },
  {
   "cell_type": "code",
   "execution_count": 2,
   "id": "8094bc46-f7b7-4d08-a2a5-80674737b17f",
   "metadata": {},
   "outputs": [],
   "source": [
    "# info\n",
    "# warning\n",
    "# error\n",
    "# debug\n",
    "# exception\n",
    "# critical\n",
    "\n",
    "import logging as lg\n",
    "lg.basicConfig(filename='C:\\\\Users\\\\paluchur\\\\OneDrive - Capgemini\\\\Desktop\\\\Python_intro\\\\logging\\\\test1.log',level=lg.INFO )\n",
    "\n"
   ]
  },
  {
   "cell_type": "code",
   "execution_count": 3,
   "id": "82095f80-83e6-4cb3-beb0-53fc7d1e7f6a",
   "metadata": {},
   "outputs": [],
   "source": [
    "lg.debug(\"this is for debugging\")\n",
    "lg.critical(\"THIS is my critical log\")\n",
    "lg.error(\"this is my error log\")\n",
    "lg.exception(\"this is my exception log\")\n",
    "lg.warning(\"this is my warning log\")\n",
    "lg.info(\"this is my info log\")"
   ]
  },
  {
   "cell_type": "code",
   "execution_count": null,
   "id": "a5b446f3-4cd2-42b8-b46a-78ced7cc2c87",
   "metadata": {},
   "outputs": [],
   "source": []
  },
  {
   "cell_type": "code",
   "execution_count": null,
   "id": "907f7e26-ff36-4604-874b-57ae92e54555",
   "metadata": {},
   "outputs": [],
   "source": []
  },
  {
   "cell_type": "code",
   "execution_count": null,
   "id": "e68900d6-4d85-4de0-930f-8a8c3e1e7a07",
   "metadata": {},
   "outputs": [],
   "source": []
  },
  {
   "cell_type": "code",
   "execution_count": null,
   "id": "9257ad24-e75b-4822-89de-3ed6fb38eb5e",
   "metadata": {},
   "outputs": [],
   "source": []
  },
  {
   "cell_type": "code",
   "execution_count": null,
   "id": "99fa4692-0dbf-4cdd-b094-afab28680637",
   "metadata": {},
   "outputs": [],
   "source": []
  },
  {
   "cell_type": "code",
   "execution_count": null,
   "id": "5da41412-19d8-4637-89d4-13bdf6eeac43",
   "metadata": {},
   "outputs": [],
   "source": []
  },
  {
   "cell_type": "code",
   "execution_count": null,
   "id": "eeba3c1a-3df7-4077-9913-03e083a4fcbc",
   "metadata": {},
   "outputs": [],
   "source": []
  },
  {
   "cell_type": "code",
   "execution_count": null,
   "id": "d88c9160-97c0-4fd4-a284-5a464d0c8b12",
   "metadata": {},
   "outputs": [],
   "source": []
  },
  {
   "cell_type": "code",
   "execution_count": null,
   "id": "d617ca40-b124-4043-b1ca-35eaecd56337",
   "metadata": {},
   "outputs": [],
   "source": []
  },
  {
   "cell_type": "code",
   "execution_count": null,
   "id": "3a833741-b64d-453d-a4a8-3beff411ac03",
   "metadata": {},
   "outputs": [],
   "source": []
  },
  {
   "cell_type": "code",
   "execution_count": null,
   "id": "cbe5181d-ee30-4c03-b917-2fe5ead491d4",
   "metadata": {},
   "outputs": [],
   "source": []
  }
 ],
 "metadata": {
  "kernelspec": {
   "display_name": "Python 3",
   "language": "python",
   "name": "python3"
  },
  "language_info": {
   "codemirror_mode": {
    "name": "ipython",
    "version": 3
   },
   "file_extension": ".py",
   "mimetype": "text/x-python",
   "name": "python",
   "nbconvert_exporter": "python",
   "pygments_lexer": "ipython3",
   "version": "3.8.8"
  }
 },
 "nbformat": 4,
 "nbformat_minor": 5
}
